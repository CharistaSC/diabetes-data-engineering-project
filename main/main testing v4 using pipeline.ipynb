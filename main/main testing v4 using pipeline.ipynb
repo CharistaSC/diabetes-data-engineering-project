{
 "cells": [
  {
   "cell_type": "code",
   "execution_count": 1,
   "metadata": {},
   "outputs": [
    {
     "name": "stdout",
     "output_type": "stream",
     "text": [
      "Requirement already satisfied: torch in c:\\users\\bryon\\appdata\\local\\packages\\pythonsoftwarefoundation.python.3.10_qbz5n2kfra8p0\\localcache\\local-packages\\python310\\site-packages (2.0.1)Note: you may need to restart the kernel to use updated packages.\n",
      "\n",
      "Requirement already satisfied: torchvision in c:\\users\\bryon\\appdata\\local\\packages\\pythonsoftwarefoundation.python.3.10_qbz5n2kfra8p0\\localcache\\local-packages\\python310\\site-packages (0.15.2)\n",
      "Requirement already satisfied: transformers in c:\\users\\bryon\\appdata\\local\\packages\\pythonsoftwarefoundation.python.3.10_qbz5n2kfra8p0\\localcache\\local-packages\\python310\\site-packages (4.31.0)\n",
      "Requirement already satisfied: tabulate in c:\\users\\bryon\\appdata\\local\\packages\\pythonsoftwarefoundation.python.3.10_qbz5n2kfra8p0\\localcache\\local-packages\\python310\\site-packages (0.9.0)\n",
      "Requirement already satisfied: filelock in c:\\users\\bryon\\appdata\\local\\packages\\pythonsoftwarefoundation.python.3.10_qbz5n2kfra8p0\\localcache\\local-packages\\python310\\site-packages (from torch) (3.12.2)\n",
      "Requirement already satisfied: typing-extensions in c:\\users\\bryon\\appdata\\local\\packages\\pythonsoftwarefoundation.python.3.10_qbz5n2kfra8p0\\localcache\\local-packages\\python310\\site-packages (from torch) (4.7.1)\n",
      "Requirement already satisfied: sympy in c:\\users\\bryon\\appdata\\local\\packages\\pythonsoftwarefoundation.python.3.10_qbz5n2kfra8p0\\localcache\\local-packages\\python310\\site-packages (from torch) (1.12)\n",
      "Requirement already satisfied: networkx in c:\\users\\bryon\\appdata\\local\\packages\\pythonsoftwarefoundation.python.3.10_qbz5n2kfra8p0\\localcache\\local-packages\\python310\\site-packages (from torch) (3.1)\n",
      "Requirement already satisfied: jinja2 in c:\\users\\bryon\\appdata\\local\\packages\\pythonsoftwarefoundation.python.3.10_qbz5n2kfra8p0\\localcache\\local-packages\\python310\\site-packages (from torch) (3.1.2)\n",
      "Requirement already satisfied: numpy in c:\\users\\bryon\\appdata\\local\\packages\\pythonsoftwarefoundation.python.3.10_qbz5n2kfra8p0\\localcache\\local-packages\\python310\\site-packages (from torchvision) (1.25.0)\n",
      "Requirement already satisfied: requests in c:\\users\\bryon\\appdata\\local\\packages\\pythonsoftwarefoundation.python.3.10_qbz5n2kfra8p0\\localcache\\local-packages\\python310\\site-packages (from torchvision) (2.31.0)\n",
      "Requirement already satisfied: pillow!=8.3.*,>=5.3.0 in c:\\users\\bryon\\appdata\\local\\packages\\pythonsoftwarefoundation.python.3.10_qbz5n2kfra8p0\\localcache\\local-packages\\python310\\site-packages (from torchvision) (9.5.0)\n",
      "Requirement already satisfied: huggingface-hub<1.0,>=0.14.1 in c:\\users\\bryon\\appdata\\local\\packages\\pythonsoftwarefoundation.python.3.10_qbz5n2kfra8p0\\localcache\\local-packages\\python310\\site-packages (from transformers) (0.16.4)\n",
      "Requirement already satisfied: packaging>=20.0 in c:\\users\\bryon\\appdata\\local\\packages\\pythonsoftwarefoundation.python.3.10_qbz5n2kfra8p0\\localcache\\local-packages\\python310\\site-packages (from transformers) (23.0)\n",
      "Requirement already satisfied: pyyaml>=5.1 in c:\\users\\bryon\\appdata\\local\\packages\\pythonsoftwarefoundation.python.3.10_qbz5n2kfra8p0\\localcache\\local-packages\\python310\\site-packages (from transformers) (6.0)\n",
      "Requirement already satisfied: regex!=2019.12.17 in c:\\users\\bryon\\appdata\\local\\packages\\pythonsoftwarefoundation.python.3.10_qbz5n2kfra8p0\\localcache\\local-packages\\python310\\site-packages (from transformers) (2023.6.3)\n",
      "Requirement already satisfied: tokenizers!=0.11.3,<0.14,>=0.11.1 in c:\\users\\bryon\\appdata\\local\\packages\\pythonsoftwarefoundation.python.3.10_qbz5n2kfra8p0\\localcache\\local-packages\\python310\\site-packages (from transformers) (0.13.3)\n",
      "Requirement already satisfied: safetensors>=0.3.1 in c:\\users\\bryon\\appdata\\local\\packages\\pythonsoftwarefoundation.python.3.10_qbz5n2kfra8p0\\localcache\\local-packages\\python310\\site-packages (from transformers) (0.3.1)\n",
      "Requirement already satisfied: tqdm>=4.27 in c:\\users\\bryon\\appdata\\local\\packages\\pythonsoftwarefoundation.python.3.10_qbz5n2kfra8p0\\localcache\\local-packages\\python310\\site-packages (from transformers) (4.65.0)\n",
      "Requirement already satisfied: fsspec in c:\\users\\bryon\\appdata\\local\\packages\\pythonsoftwarefoundation.python.3.10_qbz5n2kfra8p0\\localcache\\local-packages\\python310\\site-packages (from huggingface-hub<1.0,>=0.14.1->transformers) (2023.6.0)\n",
      "Requirement already satisfied: colorama in c:\\users\\bryon\\appdata\\local\\packages\\pythonsoftwarefoundation.python.3.10_qbz5n2kfra8p0\\localcache\\local-packages\\python310\\site-packages (from tqdm>=4.27->transformers) (0.4.6)\n",
      "Requirement already satisfied: MarkupSafe>=2.0 in c:\\users\\bryon\\appdata\\local\\packages\\pythonsoftwarefoundation.python.3.10_qbz5n2kfra8p0\\localcache\\local-packages\\python310\\site-packages (from jinja2->torch) (2.1.3)\n",
      "Requirement already satisfied: charset-normalizer<4,>=2 in c:\\users\\bryon\\appdata\\local\\packages\\pythonsoftwarefoundation.python.3.10_qbz5n2kfra8p0\\localcache\\local-packages\\python310\\site-packages (from requests->torchvision) (3.1.0)\n",
      "Requirement already satisfied: idna<4,>=2.5 in c:\\users\\bryon\\appdata\\local\\packages\\pythonsoftwarefoundation.python.3.10_qbz5n2kfra8p0\\localcache\\local-packages\\python310\\site-packages (from requests->torchvision) (3.4)\n",
      "Requirement already satisfied: urllib3<3,>=1.21.1 in c:\\users\\bryon\\appdata\\local\\packages\\pythonsoftwarefoundation.python.3.10_qbz5n2kfra8p0\\localcache\\local-packages\\python310\\site-packages (from requests->torchvision) (2.0.3)\n",
      "Requirement already satisfied: certifi>=2017.4.17 in c:\\users\\bryon\\appdata\\local\\packages\\pythonsoftwarefoundation.python.3.10_qbz5n2kfra8p0\\localcache\\local-packages\\python310\\site-packages (from requests->torchvision) (2023.5.7)\n",
      "Requirement already satisfied: mpmath>=0.19 in c:\\users\\bryon\\appdata\\local\\packages\\pythonsoftwarefoundation.python.3.10_qbz5n2kfra8p0\\localcache\\local-packages\\python310\\site-packages (from sympy->torch) (1.3.0)\n"
     ]
    },
    {
     "name": "stderr",
     "output_type": "stream",
     "text": [
      "\n",
      "[notice] A new release of pip is available: 23.1.2 -> 23.2.1\n",
      "[notice] To update, run: C:\\Users\\Bryon\\AppData\\Local\\Microsoft\\WindowsApps\\PythonSoftwareFoundation.Python.3.10_qbz5n2kfra8p0\\python.exe -m pip install --upgrade pip\n"
     ]
    }
   ],
   "source": [
    "pip install torch torchvision transformers tabulate"
   ]
  },
  {
   "cell_type": "code",
   "execution_count": 2,
   "metadata": {},
   "outputs": [
    {
     "name": "stderr",
     "output_type": "stream",
     "text": [
      "C:\\Users\\Bryon\\AppData\\Local\\Packages\\PythonSoftwareFoundation.Python.3.10_qbz5n2kfra8p0\\LocalCache\\local-packages\\Python310\\site-packages\\tqdm\\auto.py:21: TqdmWarning: IProgress not found. Please update jupyter and ipywidgets. See https://ipywidgets.readthedocs.io/en/stable/user_install.html\n",
      "  from .autonotebook import tqdm as notebook_tqdm\n"
     ]
    }
   ],
   "source": [
    "import tkinter as tk\n",
    "from tkinter import filedialog\n",
    "from PIL import Image, ImageTk\n",
    "from transformers import pipeline\n",
    "\n",
    "# Load the pipeline with the fine-tuned model for image classification\n",
    "pipe = pipeline(\"image-classification\", model=\"rafalosa/diabetic-retinopathy-224-procnorm-vit\")\n"
   ]
  },
  {
   "cell_type": "code",
   "execution_count": 29,
   "metadata": {},
   "outputs": [],
   "source": [
    "def open_image():\n",
    "    file_path = filedialog.askopenfilename(filetypes=[(\"Image files\", \"*.jpg;*.png;*.jpeg\")])\n",
    "    if file_path:\n",
    "        display_image(file_path)\n",
    "        evaluate_model(file_path)\n",
    "\n",
    "def resize_with_aspect_ratio(image, max_size):\n",
    "    width, height = image.size\n",
    "    if width > height:\n",
    "        new_width = max_size\n",
    "        new_height = int(height * max_size / width)\n",
    "    else:\n",
    "        new_height = max_size\n",
    "        new_width = int(width * max_size / height)\n",
    "    return image.resize((new_width, new_height), Image.ANTIALIAS)\n",
    "\n",
    "def display_image(image_path):\n",
    "    image = Image.open(image_path)\n",
    "    # Resize the image for display, preserving aspect ratio\n",
    "    image = resize_with_aspect_ratio(image, 300)\n",
    "    photo = ImageTk.PhotoImage(image)\n",
    "    image_label.config(image=photo)\n",
    "    image_label.image = photo\n",
    "\n",
    "def evaluate_model(image_path):\n",
    "    results = pipe(image_path)\n",
    "\n",
    "    # Update class labels to full names and capitalize\n",
    "    for result in results:\n",
    "        result['label'] = result['label'].capitalize().replace(\"dr\", \"Diabetic Retinopathy\")\n",
    "\n",
    "    # Create table data with headers and rows\n",
    "    table_data = [(\"Class\", \"Confidence\")] + [(result['label'], \"{:.2f}\".format(result['score'])) for result in results]\n",
    "\n",
    "    # Remove any existing table entries\n",
    "    for widget in table_frame.winfo_children():\n",
    "        widget.destroy()\n",
    "\n",
    "    # Insert data into the table\n",
    "    for i, (header, data) in enumerate(table_data):\n",
    "        bold_font = ('Arial', 12, 'bold') if i == 0 else ('Arial', 12)\n",
    "\n",
    "        e = tk.Entry(table_frame, width=25, fg='black', font=bold_font, bd=0)  # Set border width (bd) to 0\n",
    "        e.grid(row=i, column=0, padx=5, pady=5)\n",
    "        e.insert(tk.END, header)\n",
    "        e.config(state='readonly')\n",
    "\n",
    "        e = tk.Entry(table_frame, width=15, fg='black', font=bold_font, bd=0)  # Set border width (bd) to 0\n",
    "        e.grid(row=i, column=1, padx=5, pady=5)\n",
    "        e.insert(tk.END, data)\n",
    "        e.config(state='readonly')\n"
   ]
  },
  {
   "cell_type": "code",
   "execution_count": 32,
   "metadata": {},
   "outputs": [
    {
     "name": "stderr",
     "output_type": "stream",
     "text": [
      "C:\\Users\\Bryon\\AppData\\Local\\Temp\\ipykernel_18616\\2511145971.py:15: DeprecationWarning: ANTIALIAS is deprecated and will be removed in Pillow 10 (2023-07-01). Use LANCZOS or Resampling.LANCZOS instead.\n",
      "  return image.resize((new_width, new_height), Image.ANTIALIAS)\n"
     ]
    }
   ],
   "source": [
    "\n",
    "# Create the main application window\n",
    "root = tk.Tk()\n",
    "root.title(\"Diabetic Retinopathy Detection\")\n",
    "\n",
    "# Set the initial window size (width x height)\n",
    "root.geometry(\"800x700\")\n",
    "# Set the minimum window size (width x height)\n",
    "root.minsize(500, 650)\n",
    "\n",
    "# Create the image label\n",
    "image_label = tk.Label(root)\n",
    "image_label.pack(pady=15)\n",
    "\n",
    "# Create the \"Upload Image\" button\n",
    "upload_button = tk.Button(root, text=\"Upload Image\", command=open_image)\n",
    "upload_button.pack(pady=10)\n",
    "\"\"\"\n",
    "# Create a label to show the model's predictions\n",
    "result_text = tk.StringVar()\n",
    "result_label = tk.Label(root, textvariable=result_text, font=(\"Arial\", 12))\n",
    "result_label.pack()\n",
    "\"\"\"\n",
    "# Create a frame for the table\n",
    "table_frame = tk.Frame(root)\n",
    "table_frame.pack(pady=10)\n",
    "\n",
    "# Start the main event loop\n",
    "root.mainloop()"
   ]
  }
 ],
 "metadata": {
  "kernelspec": {
   "display_name": "Python 3",
   "language": "python",
   "name": "python3"
  },
  "language_info": {
   "codemirror_mode": {
    "name": "ipython",
    "version": 3
   },
   "file_extension": ".py",
   "mimetype": "text/x-python",
   "name": "python",
   "nbconvert_exporter": "python",
   "pygments_lexer": "ipython3",
   "version": "3.10.11"
  },
  "orig_nbformat": 4
 },
 "nbformat": 4,
 "nbformat_minor": 2
}
