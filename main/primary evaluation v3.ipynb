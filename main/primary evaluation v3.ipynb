{
 "cells": [
  {
   "cell_type": "code",
   "execution_count": 15,
   "metadata": {},
   "outputs": [
    {
     "name": "stderr",
     "output_type": "stream",
     "text": [
      "c:\\Users\\bryon\\AppData\\Local\\Programs\\Python\\Python311\\Lib\\site-packages\\transformers\\models\\vit\\feature_extraction_vit.py:28: FutureWarning: The class ViTFeatureExtractor is deprecated and will be removed in version 5 of Transformers. Please use ViTImageProcessor instead.\n",
      "  warnings.warn(\n"
     ]
    }
   ],
   "source": [
    "import os\n",
    "import torch\n",
    "import pandas as pd\n",
    "import matplotlib.pyplot as plt\n",
    "import seaborn as sns\n",
    "from PIL import Image\n",
    "from transformers import AutoFeatureExtractor, AutoModelForImageClassification\n",
    "from sklearn.metrics import classification_report, confusion_matrix\n",
    "\n",
    "# Load the model and feature extractor\n",
    "extractor = AutoFeatureExtractor.from_pretrained(\"rafalosa/diabetic-retinopathy-224-procnorm-vit\")\n",
    "model = AutoModelForImageClassification.from_pretrained(\"rafalosa/diabetic-retinopathy-224-procnorm-vit\")"
   ]
  },
  {
   "cell_type": "code",
   "execution_count": 16,
   "metadata": {},
   "outputs": [],
   "source": [
    "# Evaluation data folder path and mapping of folder names to labels\n",
    "evaluation_data_folder = \"images/evaluation2/\"\n",
    "label_mapping = {\n",
    "    \"No_DR\": 0,\n",
    "    \"Mild\": 1,\n",
    "    \"Moderate\": 2,\n",
    "    \"Severe\": 3,\n",
    "    \"Proliferate_DR\": 4\n",
    "}\n",
    "\n",
    "# Reverse the label_mapping to get the original names from numbers\n",
    "reverse_label_mapping = {v: k for k, v in label_mapping.items()}\n"
   ]
  },
  {
   "cell_type": "code",
   "execution_count": 20,
   "metadata": {},
   "outputs": [
    {
     "name": "stdout",
     "output_type": "stream",
     "text": [
      "Classification Report:\n",
      "               precision  recall f1-score\n",
      "No_DR             20.75%  73.33%   32.35%\n",
      "Mild               6.82%  10.00%    8.11%\n",
      "Moderate           0.00%   0.00%    0.00%\n",
      "Severe             0.00%   0.00%    0.00%\n",
      "Proliferate_DR     0.00%   0.00%    0.00%\n",
      "accuracy          16.67%  16.67%   16.67%\n",
      "macro avg          5.51%  16.67%    8.09%\n",
      "weighted avg       5.51%  16.67%    8.09%\n",
      "Confusion Matrix:\n",
      "[[22  8  0  0  0]\n",
      " [27  3  0  0  0]\n",
      " [ 0 30  0  0  0]\n",
      " [28  2  0  0  0]\n",
      " [29  1  0  0  0]]\n"
     ]
    },
    {
     "name": "stderr",
     "output_type": "stream",
     "text": [
      "c:\\Users\\bryon\\AppData\\Local\\Programs\\Python\\Python311\\Lib\\site-packages\\sklearn\\metrics\\_classification.py:1469: UndefinedMetricWarning: Precision and F-score are ill-defined and being set to 0.0 in labels with no predicted samples. Use `zero_division` parameter to control this behavior.\n",
      "  _warn_prf(average, modifier, msg_start, len(result))\n",
      "c:\\Users\\bryon\\AppData\\Local\\Programs\\Python\\Python311\\Lib\\site-packages\\sklearn\\metrics\\_classification.py:1469: UndefinedMetricWarning: Precision and F-score are ill-defined and being set to 0.0 in labels with no predicted samples. Use `zero_division` parameter to control this behavior.\n",
      "  _warn_prf(average, modifier, msg_start, len(result))\n",
      "c:\\Users\\bryon\\AppData\\Local\\Programs\\Python\\Python311\\Lib\\site-packages\\sklearn\\metrics\\_classification.py:1469: UndefinedMetricWarning: Precision and F-score are ill-defined and being set to 0.0 in labels with no predicted samples. Use `zero_division` parameter to control this behavior.\n",
      "  _warn_prf(average, modifier, msg_start, len(result))\n"
     ]
    }
   ],
   "source": [
    "# Function to generate classification report and confusion matrix for a given folder\n",
    "def generate_metrics_for_folder(data_folder, label_mapping):\n",
    "    true_labels = []\n",
    "    predicted_labels = []\n",
    "\n",
    "    for image_filename in os.listdir(data_folder):\n",
    "        image_path = os.path.join(data_folder, image_filename)\n",
    "        image = Image.open(image_path)\n",
    "        inputs = extractor(images=image, return_tensors=\"pt\")\n",
    "        outputs = model(**inputs)\n",
    "        logits = outputs.logits\n",
    "        probs = logits.softmax(dim=1)\n",
    "        predicted_class_idx = torch.argmax(probs, dim=1).item()\n",
    "        predicted_label = reverse_label_mapping.get(predicted_class_idx, \"Unknown Label\")\n",
    "\n",
    "        folder_name = os.path.basename(data_folder)\n",
    "        label = reverse_label_mapping.get(label_mapping.get(folder_name, -1), \"Unknown Label\")\n",
    "\n",
    "        true_labels.append(label)\n",
    "        predicted_labels.append(predicted_label)\n",
    "\n",
    "    return true_labels, predicted_labels\n",
    "\n",
    "# Initialize lists to accumulate true labels and predicted labels for the entire dataset\n",
    "all_true_labels = []\n",
    "all_predicted_labels = []\n",
    "\n",
    "# Call the function for each folder to accumulate metrics for the entire dataset\n",
    "for folder_name in os.listdir(evaluation_data_folder):\n",
    "    folder_path = os.path.join(evaluation_data_folder, folder_name)\n",
    "    true_labels, predicted_labels = generate_metrics_for_folder(folder_path, label_mapping)\n",
    "    all_true_labels.extend(true_labels)\n",
    "    all_predicted_labels.extend(predicted_labels)\n",
    "\n",
    "# Generate classification report and confusion matrix for the entire dataset\n",
    "report = classification_report(all_true_labels, all_predicted_labels, target_names=label_mapping.keys(), output_dict=True)\n",
    "classification_df = pd.DataFrame(report).transpose()\n",
    "classification_df = classification_df.drop(\"support\", axis=1)\n",
    "\n",
    "# Convert float values to percentages in the DataFrame\n",
    "classification_df[\"precision\"] = classification_df[\"precision\"].apply(lambda x: f'{x:.2%}')\n",
    "classification_df[\"recall\"] = classification_df[\"recall\"].apply(lambda x: f'{x:.2%}')\n",
    "classification_df[\"f1-score\"] = classification_df[\"f1-score\"].apply(lambda x: f'{x:.2%}')\n",
    "\n",
    "# Print the formatted classification report\n",
    "print(\"Classification Report:\")\n",
    "print(classification_df)\n",
    "\n",
    "print(\"Confusion Matrix:\")\n",
    "print(confusion_matrix(all_true_labels, all_predicted_labels))\n"
   ]
  }
 ],
 "metadata": {
  "kernelspec": {
   "display_name": "Python 3",
   "language": "python",
   "name": "python3"
  },
  "language_info": {
   "codemirror_mode": {
    "name": "ipython",
    "version": 3
   },
   "file_extension": ".py",
   "mimetype": "text/x-python",
   "name": "python",
   "nbconvert_exporter": "python",
   "pygments_lexer": "ipython3",
   "version": "3.11.4"
  },
  "orig_nbformat": 4
 },
 "nbformat": 4,
 "nbformat_minor": 2
}
